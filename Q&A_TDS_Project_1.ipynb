{
  "nbformat": 4,
  "nbformat_minor": 0,
  "metadata": {
    "colab": {
      "provenance": []
    },
    "kernelspec": {
      "name": "python3",
      "display_name": "Python 3"
    },
    "language_info": {
      "name": "python"
    }
  },
  "cells": [
    {
      "cell_type": "markdown",
      "source": [
        "# **Question No - 1**"
      ],
      "metadata": {
        "id": "3L0TQOC1NgqG"
      }
    },
    {
      "cell_type": "code",
      "source": [
        "#Q1\n",
        "import pandas as pd\n",
        "\n",
        "# Load the data\n",
        "users_df = pd.read_csv('users.csv',encoding='ISO-8859-1')\n",
        "\n",
        "# Sort by followers and get top 5\n",
        "top_users = users_df.sort_values(by='followers', ascending=False).head(5)\n",
        "\n",
        "# Extract logins\n",
        "top_logins = top_users['login'].tolist()\n",
        "result = ', '.join(top_logins)\n",
        "\n",
        "print(result)"
      ],
      "metadata": {
        "colab": {
          "base_uri": "https://localhost:8080/"
        },
        "id": "OXiy-22vNFut",
        "outputId": "3b86411e-c8a5-473c-fbc3-b77b52ff441e"
      },
      "execution_count": 2,
      "outputs": [
        {
          "output_type": "stream",
          "name": "stdout",
          "text": [
            "tiangolo, schacon, rwieruch, shuding, android10\n"
          ]
        }
      ]
    },
    {
      "cell_type": "markdown",
      "source": [
        "# **Question No - 2**"
      ],
      "metadata": {
        "id": "9dkhAlLNN5te"
      }
    },
    {
      "cell_type": "code",
      "source": [
        "#Q2\n",
        "import pandas as pd\n",
        "\n",
        "# Load the data\n",
        "users_df = pd.read_csv('users.csv',encoding='ISO-8859-1')\n",
        "\n",
        "# Convert created_at to datetime\n",
        "users_df['created_at'] = pd.to_datetime(users_df['created_at'])\n",
        "\n",
        "# Sort by created_at and get the earliest 5 users\n",
        "earliest_users = users_df.sort_values(by='created_at').head(5)\n",
        "\n",
        "# Extract logins\n",
        "earliest_logins = earliest_users['login'].tolist()\n",
        "result = ', '.join(earliest_logins)\n",
        "\n",
        "print(result)\n"
      ],
      "metadata": {
        "colab": {
          "base_uri": "https://localhost:8080/"
        },
        "id": "UgP9bhUXNxF7",
        "outputId": "e466d85b-1df7-475c-ee9c-ff2c62b86cd3"
      },
      "execution_count": 4,
      "outputs": [
        {
          "output_type": "stream",
          "name": "stdout",
          "text": [
            "schacon, adamwiggins, myobie, lstoll, znarf\n"
          ]
        }
      ]
    },
    {
      "cell_type": "markdown",
      "source": [
        "# **Question No - 3**"
      ],
      "metadata": {
        "id": "wcpfO1gHOFRw"
      }
    },
    {
      "cell_type": "code",
      "source": [
        "#Q3\n",
        "import pandas as pd\n",
        "\n",
        "# Load the data\n",
        "repositories_df = pd.read_csv('repositories.csv',encoding='ISO-8859-1')\n",
        "\n",
        "# Filter out missing license names\n",
        "repositories_df = repositories_df[repositories_df['license_name'].notna()]\n",
        "\n",
        "# Count occurrences of each license\n",
        "license_counts = repositories_df['license_name'].value_counts()\n",
        "\n",
        "# Get the top 3 licenses\n",
        "top_licenses = license_counts.head(3).index.tolist()\n",
        "\n",
        "# Join the license names in order\n",
        "result = ', '.join(top_licenses)\n",
        "\n",
        "print(result)"
      ],
      "metadata": {
        "colab": {
          "base_uri": "https://localhost:8080/"
        },
        "id": "asSWGibNOEqL",
        "outputId": "97e0ddd7-ac4a-493d-8965-1be99d0aecac"
      },
      "execution_count": 5,
      "outputs": [
        {
          "output_type": "stream",
          "name": "stdout",
          "text": [
            "MIT License, Apache License 2.0, Other\n"
          ]
        }
      ]
    },
    {
      "cell_type": "markdown",
      "source": [
        "# **Question No - 4**"
      ],
      "metadata": {
        "id": "lWt-6uYpOeE2"
      }
    },
    {
      "cell_type": "code",
      "source": [
        "#Q4\n",
        "import pandas as pd\n",
        "\n",
        "# Load the data\n",
        "users_df = pd.read_csv('users.csv',encoding='ISO-8859-1')\n",
        "\n",
        "# Count occurrences of each company\n",
        "company_counts = users_df['company'].value_counts()\n",
        "\n",
        "# Get the company with the highest count\n",
        "most_common_company = company_counts.idxmax()\n",
        "most_common_count = company_counts.max()\n",
        "\n",
        "print(f\"The majority of developers work at: {most_common_company} with {most_common_count} developers.\")"
      ],
      "metadata": {
        "colab": {
          "base_uri": "https://localhost:8080/"
        },
        "id": "l0o9hdUPOU9C",
        "outputId": "bb3cd7b8-ccb5-4c2b-d1ce-1a96181d2e1c"
      },
      "execution_count": 6,
      "outputs": [
        {
          "output_type": "stream",
          "name": "stdout",
          "text": [
            "The majority of developers work at: MICROSOFT with 8 developers.\n"
          ]
        }
      ]
    },
    {
      "cell_type": "markdown",
      "source": [
        "# **Question No - 5**"
      ],
      "metadata": {
        "id": "tonPjW1lQ1iU"
      }
    },
    {
      "cell_type": "code",
      "source": [
        "#Q5\n",
        "import pandas as pd\n",
        "\n",
        "# Load the data\n",
        "repositories_df = pd.read_csv('repositories.csv',encoding='ISO-8859-1')\n",
        "\n",
        "# Count occurrences of each programming language, ignoring missing values\n",
        "language_counts = repositories_df['language'].value_counts()\n",
        "\n",
        "# Get the most popular programming language\n",
        "most_popular_language = language_counts.idxmax()\n",
        "most_popular_count = language_counts.max()\n",
        "\n",
        "print(f\"The most popular programming language is: {most_popular_language} with {most_popular_count} repositories.\")"
      ],
      "metadata": {
        "colab": {
          "base_uri": "https://localhost:8080/"
        },
        "id": "eYTYq2T7OmqA",
        "outputId": "0b652144-da47-477e-bdf1-c22b609d85a7"
      },
      "execution_count": 7,
      "outputs": [
        {
          "output_type": "stream",
          "name": "stdout",
          "text": [
            "The most popular programming language is: JavaScript with 10393 repositories.\n"
          ]
        }
      ]
    },
    {
      "cell_type": "markdown",
      "source": [
        "# **Question No - 6**"
      ],
      "metadata": {
        "id": "9t7IecY7Q5Ea"
      }
    },
    {
      "cell_type": "code",
      "source": [
        "#Q6\n",
        "import pandas as pd\n",
        "\n",
        "# Load the data\n",
        "users_df = pd.read_csv('users.csv',encoding='ISO-8859-1')\n",
        "repositories_df = pd.read_csv('repositories.csv')\n",
        "\n",
        "# Convert created_at to datetime and filter users who joined after 2020\n",
        "users_df['created_at'] = pd.to_datetime(users_df['created_at'])\n",
        "recent_users = users_df[users_df['created_at'] > '2020-01-01']\n",
        "\n",
        "# Get the logins of recent users\n",
        "recent_user_logins = recent_users['login'].tolist()\n",
        "\n",
        "# Filter repositories by these users\n",
        "recent_repositories = repositories_df[repositories_df['login'].isin(recent_user_logins)]\n",
        "\n",
        "# Count occurrences of each programming language\n",
        "language_counts = recent_repositories['language'].value_counts()\n",
        "\n",
        "# Get the second most popular programming language\n",
        "second_most_popular_language = language_counts.nlargest(2).index[1]\n",
        "second_most_popular_count = language_counts.nlargest(2).values[1]\n",
        "\n",
        "print(f\"The second most popular programming language among users who joined after 2020 is: {second_most_popular_language} with {second_most_popular_count} repositories.\")"
      ],
      "metadata": {
        "colab": {
          "base_uri": "https://localhost:8080/"
        },
        "id": "rNBnHZwaOtEf",
        "outputId": "c215bda7-82da-4806-b0f7-0f727cf570a3"
      },
      "execution_count": 9,
      "outputs": [
        {
          "output_type": "stream",
          "name": "stdout",
          "text": [
            "The second most popular programming language among users who joined after 2020 is: Python with 62 repositories.\n"
          ]
        }
      ]
    },
    {
      "cell_type": "markdown",
      "source": [
        "# **Question No - 7**"
      ],
      "metadata": {
        "id": "TghIvmgEQ7X0"
      }
    },
    {
      "cell_type": "code",
      "source": [
        "#Q7\n",
        "import pandas as pd\n",
        "\n",
        "# Load the data\n",
        "repositories_df = pd.read_csv('repositories.csv', encoding='ISO-8859-1')\n",
        "\n",
        "# Group by programming language and calculate the average stars\n",
        "average_stars = repositories_df.groupby('language')['stargazers_count'].mean()\n",
        "\n",
        "# Identify the language with the highest average stars\n",
        "highest_average_language = average_stars.idxmax()\n",
        "highest_average_value = average_stars.max()\n",
        "\n",
        "print(f\"The programming language with the highest average number of stars per repository is: {highest_average_language} with an average of {highest_average_value:.2f} stars.\")\n"
      ],
      "metadata": {
        "colab": {
          "base_uri": "https://localhost:8080/"
        },
        "id": "fKcqaJKzO-18",
        "outputId": "4dbb383f-9e36-430e-f06f-34500dc3970e"
      },
      "execution_count": 10,
      "outputs": [
        {
          "output_type": "stream",
          "name": "stdout",
          "text": [
            "The programming language with the highest average number of stars per repository is: Fluent with an average of 12884.00 stars.\n"
          ]
        }
      ]
    },
    {
      "cell_type": "markdown",
      "source": [
        "# **Question No - 8**"
      ],
      "metadata": {
        "id": "eJAOoeI4Q9et"
      }
    },
    {
      "cell_type": "code",
      "source": [
        "#Q8\n",
        "import pandas as pd\n",
        "\n",
        "# Load the data\n",
        "users_df = pd.read_csv('users.csv',encoding='ISO-8859-1')\n",
        "\n",
        "# Calculate leader_strength\n",
        "users_df['leader_strength'] = users_df['followers'] / (1 + users_df['following'])\n",
        "\n",
        "# Sort by leader_strength and get the top 5\n",
        "top_leaders = users_df.sort_values(by='leader_strength', ascending=False).head(5)\n",
        "\n",
        "# Extract logins\n",
        "top_logins = top_leaders['login'].tolist()\n",
        "result = ', '.join(top_logins)\n",
        "\n",
        "print(result)"
      ],
      "metadata": {
        "colab": {
          "base_uri": "https://localhost:8080/"
        },
        "id": "D11uFvAhPF85",
        "outputId": "b923c0fe-7d5a-45c7-a527-7d1c7ac9d9cc"
      },
      "execution_count": 11,
      "outputs": [
        {
          "output_type": "stream",
          "name": "stdout",
          "text": [
            "tiangolo, marijnh, vakila, alexeygrigorev, lewagon\n"
          ]
        }
      ]
    },
    {
      "cell_type": "markdown",
      "source": [
        "# **Question No - 9**"
      ],
      "metadata": {
        "id": "9UfV0IKHQ_qD"
      }
    },
    {
      "cell_type": "code",
      "source": [
        "#Q9\n",
        "import pandas as pd\n",
        "\n",
        "# Load the data\n",
        "users_df = pd.read_csv('users.csv',encoding='ISO-8859-1')\n",
        "\n",
        "# Calculate the correlation between followers and public repositories\n",
        "correlation = users_df['followers'].corr(users_df['public_repos'])\n",
        "\n",
        "print(f\"The correlation between the number of followers and the number of public repositories is: {correlation:.3f}\")\n"
      ],
      "metadata": {
        "colab": {
          "base_uri": "https://localhost:8080/"
        },
        "id": "ZiEUgxlKPMnb",
        "outputId": "6adfaa7a-f5d3-4343-e078-7249ed11cb97"
      },
      "execution_count": 12,
      "outputs": [
        {
          "output_type": "stream",
          "name": "stdout",
          "text": [
            "The correlation between the number of followers and the number of public repositories is: 0.015\n"
          ]
        }
      ]
    },
    {
      "cell_type": "markdown",
      "source": [
        "# **Question No - 10**"
      ],
      "metadata": {
        "id": "OHWLuKq0RBzO"
      }
    },
    {
      "cell_type": "code",
      "source": [
        "#Q10\n",
        "import pandas as pd\n",
        "import statsmodels.api as sm\n",
        "\n",
        "# Load the data\n",
        "users_df = pd.read_csv('users.csv',encoding='ISO-8859-1')\n",
        "\n",
        "# Define the independent variable (X) and dependent variable (Y)\n",
        "X = users_df['public_repos']\n",
        "Y = users_df['followers']\n",
        "\n",
        "# Add a constant to the independent variable (for the intercept)\n",
        "X = sm.add_constant(X)\n",
        "\n",
        "# Fit the regression model\n",
        "model = sm.OLS(Y, X).fit()\n",
        "\n",
        "# Get the summary of the regression results\n",
        "summary = model.summary()\n",
        "\n",
        "# Extract the coefficient for public_repos\n",
        "additional_followers_per_repo = model.params['public_repos']\n",
        "\n",
        "print(f\"Regression Results:\\n{summary}\")\n",
        "print(f\"Estimated additional followers per additional public repository: {additional_followers_per_repo:.3f}\")\n"
      ],
      "metadata": {
        "colab": {
          "base_uri": "https://localhost:8080/"
        },
        "id": "G5o28nSRPT1v",
        "outputId": "fc595dc7-79ad-4fb4-c70f-3b805cdbd910"
      },
      "execution_count": 13,
      "outputs": [
        {
          "output_type": "stream",
          "name": "stdout",
          "text": [
            "Regression Results:\n",
            "                            OLS Regression Results                            \n",
            "==============================================================================\n",
            "Dep. Variable:              followers   R-squared:                       0.000\n",
            "Model:                            OLS   Adj. R-squared:                 -0.001\n",
            "Method:                 Least Squares   F-statistic:                    0.1340\n",
            "Date:                Sat, 02 Nov 2024   Prob (F-statistic):              0.714\n",
            "Time:                        09:38:46   Log-Likelihood:                -5229.7\n",
            "No. Observations:                 598   AIC:                         1.046e+04\n",
            "Df Residuals:                     596   BIC:                         1.047e+04\n",
            "Df Model:                           1                                         \n",
            "Covariance Type:            nonrobust                                         \n",
            "================================================================================\n",
            "                   coef    std err          t      P>|t|      [0.025      0.975]\n",
            "--------------------------------------------------------------------------------\n",
            "const          740.7516     93.725      7.903      0.000     556.680     924.823\n",
            "public_repos     0.2537      0.693      0.366      0.714      -1.107       1.615\n",
            "==============================================================================\n",
            "Omnibus:                     1001.461   Durbin-Watson:                   0.140\n",
            "Prob(Omnibus):                  0.000   Jarque-Bera (JB):           535357.086\n",
            "Skew:                          10.093   Prob(JB):                         0.00\n",
            "Kurtosis:                     148.184   Cond. No.                         204.\n",
            "==============================================================================\n",
            "\n",
            "Notes:\n",
            "[1] Standard Errors assume that the covariance matrix of the errors is correctly specified.\n",
            "Estimated additional followers per additional public repository: 0.254\n"
          ]
        }
      ]
    },
    {
      "cell_type": "markdown",
      "source": [
        "# **Question No -11**"
      ],
      "metadata": {
        "id": "1SatukG0REhP"
      }
    },
    {
      "cell_type": "code",
      "source": [
        "#Q11\n",
        "import pandas as pd\n",
        "\n",
        "# Load the data\n",
        "repositories_df = pd.read_csv('repositories.csv',encoding='ISO-8859-1' )\n",
        "\n",
        "\n",
        "# Calculate the correlation directly\n",
        "correlation = repositories_df['has_projects'].astype(int).corr(repositories_df['has_wiki'].astype(int))\n",
        "\n",
        "print(f\"The correlation between having projects enabled and having a wiki enabled is: {correlation:.3f}\")\n"
      ],
      "metadata": {
        "colab": {
          "base_uri": "https://localhost:8080/"
        },
        "id": "JnJdWyOePfJu",
        "outputId": "7cfc1e82-3af2-4d7b-8db8-09bef842537f"
      },
      "execution_count": 14,
      "outputs": [
        {
          "output_type": "stream",
          "name": "stdout",
          "text": [
            "The correlation between having projects enabled and having a wiki enabled is: 0.403\n"
          ]
        }
      ]
    },
    {
      "cell_type": "markdown",
      "source": [
        "# **Question No - 12**"
      ],
      "metadata": {
        "id": "MBYABdwdRG0p"
      }
    },
    {
      "cell_type": "code",
      "source": [
        "#Q12\n",
        "import pandas as pd\n",
        "\n",
        "# Load the users data from the CSV file\n",
        "users_df = pd.read_csv('users.csv',encoding='ISO-8859-1')\n",
        "\n",
        "# Filter hireable and non-hireable users\n",
        "hireable_users = users_df[users_df['hireable'] == True]\n",
        "non_hireable_users = users_df[users_df['hireable'].isna() | (users_df['hireable'] == False)]\n",
        "\n",
        "# Calculate average following for both groups\n",
        "average_hireable_following = hireable_users['following'].mean()\n",
        "average_non_hireable_following = non_hireable_users['following'].mean()\n",
        "\n",
        "# Calculate the difference\n",
        "difference = average_hireable_following - average_non_hireable_following\n",
        "\n",
        "# Print the result rounded to three decimal places\n",
        "print(f'Difference in average following (hireable - non-hireable): {difference:.3f}')\n"
      ],
      "metadata": {
        "colab": {
          "base_uri": "https://localhost:8080/"
        },
        "id": "dXPTzVQwPpkX",
        "outputId": "18538038-2c30-48e7-df0c-ee8478c9d51c"
      },
      "execution_count": 16,
      "outputs": [
        {
          "output_type": "stream",
          "name": "stdout",
          "text": [
            "Difference in average following (hireable - non-hireable): 48.685\n"
          ]
        }
      ]
    },
    {
      "cell_type": "markdown",
      "source": [
        "# **Question No - 13**"
      ],
      "metadata": {
        "id": "kNocPQ9hRI1B"
      }
    },
    {
      "cell_type": "code",
      "source": [
        "import pandas as pd\n",
        "import statsmodels.api as sm\n",
        "\n",
        "# Load the users data from the CSV file\n",
        "users_df = pd.read_csv('users.csv', encoding='ISO-8859-1')\n",
        "\n",
        "# Filter out users without bios\n",
        "users_with_bios = users_df[users_df['bio'].notna()]\n",
        "\n",
        "# Calculate the length of the bio in words\n",
        "#users_with_bios['bio_word_count'] = users_with_bios['bio'].str.split(\" \").str.len()\n",
        "\n",
        "# The error was here: users_with_bio was used instead of users_with_bios\n",
        "users_with_bios['bio_word_count'] = users_with_bios['bio'].apply(lambda x: len(x.split()))\n",
        "\n",
        "\n",
        "# Prepare the data for regression\n",
        "X = users_with_bios['bio_word_count']  # Independent variable\n",
        "y = users_with_bios['followers']        # Dependent variable\n",
        "\n",
        "# Add a constant to the independent variable for the regression\n",
        "X = sm.add_constant(X)\n",
        "\n",
        "# Fit the regression model\n",
        "model = sm.OLS(y, X).fit()\n",
        "\n",
        "# Get the regression slope (coefficient for bio_word_count)\n",
        "slope = model.params['bio_word_count']\n",
        "\n",
        "# Print the slope rounded to three decimal places\n",
        "print(f'Regression slope of followers on bio word count: {slope:.4f}')"
      ],
      "metadata": {
        "colab": {
          "base_uri": "https://localhost:8080/"
        },
        "id": "z_BQQgqvApwK",
        "outputId": "332d3959-fa6b-4eec-a94a-095bd92054bf"
      },
      "execution_count": null,
      "outputs": [
        {
          "output_type": "stream",
          "name": "stdout",
          "text": [
            "Regression slope of followers on bio word count: 28.7012\n"
          ]
        },
        {
          "output_type": "stream",
          "name": "stderr",
          "text": [
            "<ipython-input-1-68bddb854169>:14: SettingWithCopyWarning: \n",
            "A value is trying to be set on a copy of a slice from a DataFrame.\n",
            "Try using .loc[row_indexer,col_indexer] = value instead\n",
            "\n",
            "See the caveats in the documentation: https://pandas.pydata.org/pandas-docs/stable/user_guide/indexing.html#returning-a-view-versus-a-copy\n",
            "  users_with_bios['bio_word_count'] = users_with_bios['bio'].apply(lambda x: len(x.split()))\n"
          ]
        }
      ]
    },
    {
      "cell_type": "markdown",
      "source": [
        "# **Question No - 14**"
      ],
      "metadata": {
        "id": "fwOP5-8NRM7h"
      }
    },
    {
      "cell_type": "code",
      "source": [
        "#Q14\n",
        "import pandas as pd\n",
        "\n",
        "# Load the repositories data from the CSV file\n",
        "repos_df = pd.read_csv('repositories.csv', encoding='ISO-8859-1')\n",
        "\n",
        "# Convert the created_at column to datetime\n",
        "repos_df['created_at'] = pd.to_datetime(repos_df['created_at'])\n",
        "\n",
        "# Filter for weekend days (Saturday: 5, Sunday: 6)\n",
        "weekend_repos = repos_df[repos_df['created_at'].dt.dayofweek.isin([5, 6])]\n",
        "\n",
        "# Count the number of repositories created by each user\n",
        "top_users = weekend_repos['login'].value_counts().head(5)\n",
        "\n",
        "# Get the top 5 users' logins in order\n",
        "top_users_logins = ', '.join(top_users.index)\n",
        "\n",
        "# Print the result\n",
        "print(f'Top 5 users who created the most repositories on weekends: {top_users_logins}')\n"
      ],
      "metadata": {
        "colab": {
          "base_uri": "https://localhost:8080/"
        },
        "id": "g8FYHSZfP1E2",
        "outputId": "e2f3744e-c789-435f-904d-663eac2e9539"
      },
      "execution_count": 20,
      "outputs": [
        {
          "output_type": "stream",
          "name": "stdout",
          "text": [
            "Top 5 users who created the most repositories on weekends: derhuerst, janpio, saschanaz, sunsided, jamesmunns\n"
          ]
        }
      ]
    },
    {
      "cell_type": "markdown",
      "source": [
        "# **Question No - 15**"
      ],
      "metadata": {
        "id": "QyC_F-ZCRO8s"
      }
    },
    {
      "cell_type": "code",
      "source": [
        "#Q15\n",
        "import pandas as pd\n",
        "\n",
        "# Load the users data from the CSV file\n",
        "users_df = pd.read_csv('users.csv', encoding='ISO-8859-1')\n",
        "\n",
        "# Total number of users\n",
        "total_users = len(users_df)\n",
        "\n",
        "# Filter hireable and non-hireable users\n",
        "hireable_users = users_df[users_df['hireable'] == True]\n",
        "non_hireable_users = users_df[users_df['hireable'].isna() | (users_df['hireable'] == False)]\n",
        "\n",
        "# Calculate the fraction of users with email in both groups\n",
        "fraction_hireable_with_email = hireable_users['email'].notna().mean()\n",
        "fraction_non_hireable_with_email = non_hireable_users['email'].notna().mean()\n",
        "\n",
        "# Calculate the difference\n",
        "difference = fraction_hireable_with_email - fraction_non_hireable_with_email\n",
        "\n",
        "# Print the result rounded to three decimal places\n",
        "print(f'Difference in fraction of users with email: {difference:.3f}')\n"
      ],
      "metadata": {
        "colab": {
          "base_uri": "https://localhost:8080/"
        },
        "id": "lAtp_VqkQCkY",
        "outputId": "00c9908f-ed47-4658-98d7-6f2cc4ab0e96"
      },
      "execution_count": 21,
      "outputs": [
        {
          "output_type": "stream",
          "name": "stdout",
          "text": [
            "Difference in fraction of users with email: -0.008\n"
          ]
        }
      ]
    },
    {
      "cell_type": "markdown",
      "source": [
        "# **Question No - 16**"
      ],
      "metadata": {
        "id": "8w9o7_0mRQvx"
      }
    },
    {
      "cell_type": "code",
      "source": [
        "#Q16\n",
        "import pandas as pd\n",
        "\n",
        "# Load the users data from the CSV file\n",
        "users_df = pd.read_csv('users.csv', encoding='ISO-8859-1')\n",
        "\n",
        "# Filter out users without names\n",
        "valid_users = users_df[users_df['name'].notna()]\n",
        "\n",
        "# Extract surnames (last word in name)\n",
        "valid_users['surname'] = valid_users['name'].str.strip().str.split().str[-1]\n",
        "\n",
        "# Count occurrences of each surname\n",
        "surname_counts = valid_users['surname'].value_counts()\n",
        "\n",
        "# Find the most common surname(s)\n",
        "max_count = surname_counts.max()\n",
        "most_common_surnames = surname_counts[surname_counts == max_count].index.tolist()\n",
        "\n",
        "# Sort surnames alphabetically\n",
        "most_common_surnames.sort()\n",
        "\n",
        "# Count users with the most common surname\n",
        "number_of_users = max_count\n",
        "\n",
        "# Print results\n",
        "most_common_surnames_str = ', '.join(most_common_surnames)\n",
        "print(f'Most common surname(s): {most_common_surnames_str}')\n",
        "print(f'Number of users with the most common surname: {number_of_users}')\n"
      ],
      "metadata": {
        "colab": {
          "base_uri": "https://localhost:8080/"
        },
        "id": "UatRFNbNQk-h",
        "outputId": "7ed2d92f-8254-4fc2-cd5b-2fc6a24fabcf"
      },
      "execution_count": 22,
      "outputs": [
        {
          "output_type": "stream",
          "name": "stdout",
          "text": [
            "Most common surname(s): Schneider\n",
            "Number of users with the most common surname: 3\n"
          ]
        },
        {
          "output_type": "stream",
          "name": "stderr",
          "text": [
            "<ipython-input-22-9501ab472f64>:11: SettingWithCopyWarning: \n",
            "A value is trying to be set on a copy of a slice from a DataFrame.\n",
            "Try using .loc[row_indexer,col_indexer] = value instead\n",
            "\n",
            "See the caveats in the documentation: https://pandas.pydata.org/pandas-docs/stable/user_guide/indexing.html#returning-a-view-versus-a-copy\n",
            "  valid_users['surname'] = valid_users['name'].str.strip().str.split().str[-1]\n"
          ]
        }
      ]
    }
  ]
}